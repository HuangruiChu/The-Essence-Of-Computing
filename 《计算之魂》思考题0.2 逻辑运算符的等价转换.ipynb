{
 "cells": [
  {
   "cell_type": "markdown",
   "metadata": {},
   "source": [
    "Author: Huangrui Chu\n",
    "\n",
    "Bachelor: Duke Kunshan University\n",
    "\n",
    "Master: Yale University\n",
    "\n",
    "Reference Book: 《The Essence Of Computing》Author: Jun Wu\n",
    "\n",
    "Reference Blog: https://zhuanlan.zhihu.com/p/462545276 Author:鳄鱼"
   ]
  },
  {
   "cell_type": "markdown",
   "metadata": {},
   "source": [
    "# 思考题0.2\n",
    "\n",
    "利用“与非”（AND-NOT）运算实现布尔代数中的与、或、非运算。\n",
    "\n",
    "难度：二星/五星"
   ]
  },
  {
   "cell_type": "markdown",
   "metadata": {},
   "source": [
    "与： AND\n",
    "\n",
    "或： OR\n",
    "\n",
    "非： NOT\n",
    "\n",
    "与非：AND-NOT   先取 “与”，再对 “与”的结果取“非”\n",
    "\n",
    "或非：OR-NOT    先取 “或”，再对 “或”的结果取“非”\n",
    "\n",
    "\n",
    "Claim： 与，或，非 这三种运算都能靠 与非/或非的一种运算导出"
   ]
  },
  {
   "cell_type": "markdown",
   "metadata": {},
   "source": [
    "## 逻辑运算表格"
   ]
  },
  {
   "cell_type": "markdown",
   "metadata": {},
   "source": [
    "|输入A|输入B|与运算|或运算|与非运算|或非运算|\n",
    "|---|---|---|---|---|---|\n",
    "|0|0|0|0|1|1|\n",
    "|0|1|0|1|1|0|\n",
    "|1|0|0|1|1|0|\n",
    "|1|1|1|1|0|0|\n",
    "\n",
    "|输入A|非运算|\n",
    "|---|---|\n",
    "|0|1|\n",
    "|1|0|"
   ]
  },
  {
   "cell_type": "markdown",
   "metadata": {},
   "source": [
    "### 利用“与非”（AND-NOT）运算实现布尔代数中的与、或、非运算"
   ]
  },
  {
   "cell_type": "markdown",
   "metadata": {},
   "source": [
    "先解决“非”运算即运算结果与输入元素相反。\n",
    "\n",
    "观察“与非”真值表：\n",
    "\n",
    "当输入A为“0”时，输入B为“0”或“1”时，计算结果均为“1”，均与输入相反，符合要求；\n",
    "\n",
    "当输入A为“1”时，只有输入B为“1”时，计算结果才为“0”，与输入相反，符合要求\n",
    "\n",
    "取交集：“非”=(AND-NOT) 1\n",
    "\n",
    "\n",
    "再解决“与”运算：\n",
    "\n",
    "观察“与非”真值表， “与”=AND-NOT-NOT 即对 “与非”结果取非\n",
    "\n",
    "那么 “与”= [A(AND-NOT) B] (AND-NOT) 1\n",
    "\n",
    "再解决“或”运算：\n",
    "\n",
    "观察“与非”真值表，“或”运算的结果同输入元素全部取反之后，和“与非”运算的运算结果相同\n",
    "\n",
    "那么“或”= [A (AND-NOT) 1]  (AND-NOT) [B (AND-NOT) 1]"
   ]
  },
  {
   "cell_type": "markdown",
   "metadata": {},
   "source": [
    "### 利用“或非”（OR-NOT）运算实现布尔代数中的与、或、非运算"
   ]
  },
  {
   "cell_type": "markdown",
   "metadata": {},
   "source": [
    "先解决“非”运算即运算结果与输入元素相反。\n",
    "\n",
    "观察“或非”真值表：\n",
    "\n",
    "当输入A为“0”时，只有当输入B为“0”时，计算结果才为“1”，与输入相反，符合要求；\n",
    "\n",
    "当输入A为“1”时，输入B为“0”或“1”时，计算结果均为“0”，均与输入相反，符合要求；\n",
    "\n",
    "取交集：“非”=(OR-NOT) 0\n",
    "\n",
    "\n",
    "再解决“或”运算：\n",
    "\n",
    "观察“或非”真值表，“或”=OR-NOT-NOT 即对 “或非”结果取非\n",
    "\n",
    "那么“或”= [A(OR-NOT) B] (OR-NOT) 0\n",
    "\n",
    "\n",
    "\n",
    "再解决“与”运算：\n",
    "\n",
    "观察“或非”真值表，“与”运算的结果同输入元素全部取反之后，和“或非”运算的运算结果相同\n",
    "\n",
    "那么“与”= [A (OR-NOT) 0]  (OR-NOT) [B (OR-NOT) 0]"
   ]
  },
  {
   "cell_type": "code",
   "execution_count": null,
   "metadata": {},
   "outputs": [],
   "source": []
  }
 ],
 "metadata": {
  "kernelspec": {
   "display_name": "Python 3",
   "language": "python",
   "name": "python3"
  },
  "language_info": {
   "codemirror_mode": {
    "name": "ipython",
    "version": 3
   },
   "file_extension": ".py",
   "mimetype": "text/x-python",
   "name": "python",
   "nbconvert_exporter": "python",
   "pygments_lexer": "ipython3",
   "version": "3.8.5"
  }
 },
 "nbformat": 4,
 "nbformat_minor": 4
}
