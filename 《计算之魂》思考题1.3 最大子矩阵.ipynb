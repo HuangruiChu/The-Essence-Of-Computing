{
 "cells": [
  {
   "cell_type": "markdown",
   "metadata": {},
   "source": [
    "Author: Huangrui Chu\n",
    "\n",
    "Bachelor: Duke Kunshan University\n",
    "\n",
    "Master: Yale University\n",
    "\n",
    "Reference Book: 《The Essence Of Computing》Author: Jun Wu\n",
    "\n",
    "Reference Blog: https://zhuanlan.zhihu.com/p/476641538 Author:鳄鱼"
   ]
  },
  {
   "cell_type": "markdown",
   "metadata": {},
   "source": [
    "# 思考题1.3\n",
    "\n",
    "- Q1. 将例题1.3的线性复杂度算法写成伪代码。 二星/五星\n",
    "\n",
    "- Q1. 在一个数组中寻找一个区间，使得区间内的数字之和等于某个事先给定的数字。三星/五星\n",
    "\n",
    "- Q3. 在一个二维矩阵中，寻找一个矩形的区域，使其中的数字之和达到最大值。 四星/五星\n",
    "\n",
    "\n",
    "\n",
    "思考题1.3一共有三个问题，前两个问题为第三个问题的解决提供了思路和方法。"
   ]
  },
  {
   "cell_type": "markdown",
   "metadata": {},
   "source": [
    "例题1.3 总和最大区间问题 三星/五星 p.35-45\n",
    "\n",
    "给定一个实数序列，设计一个最有效的算法，找到一个总和最大的区间。\n",
    "\n",
    "比如在如下的序列中：\n",
    "\n",
    "[1.5,-12.3,3.2,-5.5,23.2,3.2,-1.4,-12.2,34.2,5.4,-7.8,1.1,-4.9]\n",
    "\n",
    "总和最大的区间是从第五个数(23.2)到第10个数(5.4)\n",
    "\n",
    "直接讲最优解题思路----正反两遍扫描的方法。\n",
    "\n",
    "我们假定这个序列有K个数，依次是$a_1,a_2,....a_K$\n",
    "\n",
    "\n",
    "步骤1，现在序列中扫描找到一个大于零的数，假定这个数不存在（即所有的数字非零即负），那么整个序列中最大的那个数就是所要找的区间。这时算法的复杂度是O(K)。因此，我们可以不失一般性地假设第一个数字是正数，如果这个数小于或等于零，则从序列头部删除，如此反复，最终删除序列头部连续排列的负数或零。\n",
    "\n",
    "步骤2，先把左边界固定在一个大于零的位置，假设为p，然后让q=p,p+1, ... ,K，\n",
    "\n",
    "我们需要记录3个中间值。\n",
    "\n",
    "1. 从p开始到当前位置q为止的总和S(p,q),因为我们接下来计算S(p,q+1)时要用到它\n",
    "\n",
    "2. 从p开始到当前位置q为止所有总和中最大的那个值，我们假定为Max。 如果S（p,q+1)<=Max,则Max不变；如果S（p,q+1)>Max,则更新Max\n",
    "\n",
    "3. 记录区间结束的位置，以r来表示。如果Maxf的值更新了，相应的区间结束位置也要更新为q+1\n",
    "\n",
    "好的，那我们计算S(p,q)，以及到目前为止的最大值Maxf(表示Maxforward)和达到最大值的右边界r。如果我们算到某一步时，发现S(p,q)<0，这时，我们需要从位置q开始，反向计算Maxb(表示Maxbackward)，并且可以确定从第1个数到第q个数之间和最大的区间，我们假定它为[$l_1,r_1$]，这个区间的和为$Max_1$。（其实，$l_1$ = p）\n",
    "\n",
    "如果$l_1$ !=p 那么S(p,$l_1$-1)>=0,于是就有S(p,$r_1$)=S(p,$l_1$-1)+S($l_1$,$r_1$)>=S($l_1$,$r_1$)=$Max_1$  这个与[$l_1,r_1$]是最大区间矛盾。\n",
    "\n",
    "\n",
    "步骤3，我们从q+1开始往后扫描，重复上述过程。先是找到第一个大于0的元素，从那里开始做累加操作，可能在遇到某个q'时，又出现S(q+1,q')<0的情况了，这时我们得到第二个局部和最大区间[$l_2,r_2$]，相应的区间之和为${Max}_2$。\n",
    "\n",
    "最大和Max必然在Max1和Max2之间。\n",
    "\n",
    "步骤4，用与步骤3同样的方法，不断往后扫描整个序列，得到一个个局部和最大的区间[$l_i,r_i$]，和相应的部分和$Max_i$，然后比较$Max_i$和Max，决定是否更新Max。\n",
    "\n",
    "最后，这样得到的局部最大区间[l,r]，就是整个序列的总和最大区间。\n",
    "\n",
    "\n",
    "\n",
    "核心解题思路就是寻找一个个和为正数的子区间，然后依次找到每个子区间中最大和区间，比较这些局部最大和，最终找到整体最大和。"
   ]
  },
  {
   "cell_type": "markdown",
   "metadata": {},
   "source": [
    "## Q1\n",
    "\n",
    "将例题1.3的线性复杂度算法写成伪代码。 二星/五星\n",
    "\n",
    "\n",
    "leetcode的题目链接：https://leetcode.cn/problems/lian-xu-zi-shu-zu-de-zui-da-he-lcof/\n",
    "\n",
    "https://leetcode.cn/problems/maximum-subarray/"
   ]
  },
  {
   "cell_type": "code",
   "execution_count": 65,
   "metadata": {},
   "outputs": [],
   "source": [
    "#设实数序列为arr\n",
    "def find_first_positive_element(arr,start_index):\n",
    "    max_number=-999999999999999\n",
    "    for idx in range(start_index,len(arr)):\n",
    "        if arr[idx]>0:\n",
    "            return idx,False\n",
    "        elif arr[idx]>max_number:\n",
    "            max_number=arr[idx]\n",
    "            maxnumber_id=idx\n",
    "    return maxnumber_id,True\n",
    "        \n",
    "    \n",
    "def MaxSubArray(arr):\n",
    "    #O(k)\n",
    "    Spq=0\n",
    "    Max=0\n",
    "    #第一遍查找，查找到第一个正数\n",
    "    p,no_positive_element=find_first_positive_element(arr,0)\n",
    "    #如果没有正数，就返回最大的那个数\n",
    "    if no_positive_element:\n",
    "        print(\"The max sub arr is [{},{}]\".format(p,p))\n",
    "        return\n",
    "    #继续啊向前遍历\n",
    "    #forward\n",
    "    for q in range(p,len(arr)):\n",
    "        #如果说是前面有发现Spq<=0\n",
    "        if p==-1:\n",
    "            #我要先找到接下来遇到的第一个正数，并且把l，p都设置成那个idx\n",
    "            if arr[q]>0:\n",
    "                print(arr[q])\n",
    "                l=p=q   \n",
    "            #否则就继续\n",
    "            else:\n",
    "                continue\n",
    "        #更新Spq\n",
    "        Spq+=arr[q]\n",
    "        #更新Max，记得在这个时候更新右边界r\n",
    "        if Spq>Max:\n",
    "            Max=Spq\n",
    "            r=q\n",
    "        #当前区间的最大值已找到，记得更新左边界\n",
    "        elif Spq<0:\n",
    "            #backward 发现l就是p\n",
    "            l=p\n",
    "            Spq=0\n",
    "            p=-1\n",
    "            \n",
    "    print(\"The sum of the max subarray is {}, from index {} to {}\".format(Max,l,r))  \n",
    "\n",
    "            \n",
    "            "
   ]
  },
  {
   "cell_type": "code",
   "execution_count": 61,
   "metadata": {},
   "outputs": [],
   "source": [
    "arr=[1.5,-12.3,3.2,-5.5,23.2,3.2,-1.4,-62.2,44.2,5.4,-7.8,1.1,-4.9,8,-1000]"
   ]
  },
  {
   "cell_type": "code",
   "execution_count": 62,
   "metadata": {},
   "outputs": [
    {
     "name": "stdout",
     "output_type": "stream",
     "text": [
      "3.2\n",
      "23.2\n",
      "44.2\n",
      "max is 49.6, from 8 to 9\n"
     ]
    }
   ],
   "source": [
    "MaxSubArray(arr)"
   ]
  },
  {
   "cell_type": "markdown",
   "metadata": {},
   "source": [
    "除了鳄鱼老师的blog，我还看到了这篇文章里的解析，里面的动态规划思想也可以借鉴。\n",
    "\n",
    "https://blog.csdn.net/flying_all/article/details/122273308"
   ]
  },
  {
   "cell_type": "markdown",
   "metadata": {},
   "source": [
    "## Q2\n",
    "\n",
    "在一个数组中寻找一个区间，使得区间内的数字之和等于某个事先给定的数字(记为$T$）。三星/五星\n",
    "\n",
    "吴军老师后面有讲解的。这里也参照 鳄鱼 老师。让我也修正一下ta写错的公式吧，也补全他代码里面没有思考S(1,p)=T这个情况。\n",
    "\n",
    "首先把这个数组做累加，记录S(1,i) for i = 1,2,....,K\n",
    "\n",
    "然后把这些S(1,i)储存在Hash 表里，Key为S(1,i) Value 为包含i的一个list（考虑到可能存在S(1,$i_1$)=S(1,$i_2$)的情况）\n",
    "\n",
    "\n",
    "\n",
    "第一种情况：S(1,i)=T\n",
    "\n",
    "第二种情况：$S(p,q)=T$  p<q\n",
    "\n",
    "$$S(p,q)=S(1,q)-S(1,p-1) $$\n",
    "\n",
    "\n",
    "假定$S(p,q)=T$, 则\n",
    "\n",
    "$$S(p,q)=T=S(1,q)-S(1,p-1)$$\n",
    "\n",
    "即$$S(1,p-1)=S(1,q)-T$$\n",
    "\n",
    "即当我们累加到元素 $A_q$时，如果发现前面有S(1,p-1)的值恰好为S(1,q)-T,我们就找到对应的区间(p,q)了。\n",
    "\n",
    "\n",
    "\n",
    "整个过程也只是遍历了数组一次，O(K)"
   ]
  },
  {
   "cell_type": "code",
   "execution_count": 122,
   "metadata": {},
   "outputs": [],
   "source": [
    "def subarraySum(arr, T):\n",
    "    hash_table = {}\n",
    "    S_1q = 0\n",
    "    answers=[]  \n",
    "    for q in range(0, len(arr)):\n",
    "        S_1q += arr[q]\n",
    "        #如果是Spq满足要求\n",
    "        if S_1q - T in hash_table.keys():\n",
    "            for p in hash_table[S_1q - T]:\n",
    "                #如果有多个起始点,要依次记录\n",
    "                #当然，如果觉得题目--“寻找一个区间”只要找到一个区间的话，就可以直接return了\n",
    "                answers.append((p+1,q))\n",
    "        #如果S_1q已经满足要求了\n",
    "        elif S_1q==T:\n",
    "            answers.append((0,q))\n",
    "        \n",
    "        if S_1q in hash_table.keys():\n",
    "            hash_table[S_1q].append(q)\n",
    "        else:\n",
    "            hash_table[S_1q] = [q]\n",
    "    print(\"The possible subarray is {}\".format(answers))"
   ]
  },
  {
   "cell_type": "markdown",
   "metadata": {},
   "source": [
    "发现首出现前sum为0的时候，从最开始的第一个元素算起的区间没有考虑进去"
   ]
  },
  {
   "cell_type": "code",
   "execution_count": 118,
   "metadata": {},
   "outputs": [],
   "source": [
    "arr=[-1,1,1,0,1,0,1,0,1]"
   ]
  },
  {
   "cell_type": "code",
   "execution_count": 103,
   "metadata": {},
   "outputs": [
    {
     "name": "stdout",
     "output_type": "stream",
     "text": [
      "The possible subarray is [(1, 3), (1, 4), (1, 5), (2, 5), (3, 5), (1, 6), (2, 6), (3, 6), (4, 7), (5, 7)]\n"
     ]
    }
   ],
   "source": [
    "subarraySum(arr, 2)"
   ]
  },
  {
   "cell_type": "code",
   "execution_count": 104,
   "metadata": {},
   "outputs": [
    {
     "name": "stdout",
     "output_type": "stream",
     "text": [
      "The possible subarray is [(1, 5), (1, 6), (1, 7), (2, 7), (3, 7)]\n"
     ]
    }
   ],
   "source": [
    "subarraySum(arr, 3)"
   ]
  },
  {
   "cell_type": "code",
   "execution_count": 123,
   "metadata": {},
   "outputs": [
    {
     "name": "stdout",
     "output_type": "stream",
     "text": [
      "The possible subarray is [(1, 6), (1, 7), (2, 8)]\n"
     ]
    }
   ],
   "source": [
    "subarraySum(arr, 4)"
   ]
  },
  {
   "cell_type": "markdown",
   "metadata": {},
   "source": [
    "修正一下，补充了前面为0，我也可以从初始位置开算的这个可能性"
   ]
  },
  {
   "cell_type": "code",
   "execution_count": 120,
   "metadata": {},
   "outputs": [],
   "source": [
    "def subarraySum(arr, T):\n",
    "    hash_table = {}\n",
    "    S_1q = 0\n",
    "    answers=[]  \n",
    "    for q in range(0, len(arr)):\n",
    "        S_1q += arr[q]\n",
    "        \n",
    "        print(q,hash_table)\n",
    "        \n",
    "        #如果是Spq满足要求\n",
    "        if S_1q - T in hash_table.keys():\n",
    "            for p in hash_table[S_1q - T]:\n",
    "                #如果有多个起始点,要依次记录\n",
    "                #当然，如果觉得题目--“寻找一个区间”只要找到一个区间的话，就可以直接return了\n",
    "                answers.append((p+1,q))\n",
    "        #如果S_1q已经满足要求了\n",
    "        elif S_1q==T:\n",
    "            answers.append((0,q))\n",
    "        \n",
    "        \n",
    "        elif (S_1q==0 and q<len(arr)):\n",
    "            #那后面的S_1(q+1) 也可能从q开始\n",
    "            if arr[q+1]in hash_table.keys():\n",
    "                hash_table[arr[q+1]].append(q)\n",
    "            else:\n",
    "                hash_table[arr[q+1]] = [q]\n",
    "            #0可以从最初始开始\n",
    "            if 0 in hash_table.keys():\n",
    "                hash_table[0].append(-1)\n",
    "            else:\n",
    "                hash_table[0] = [-1]\n",
    "                \n",
    "        if S_1q in hash_table.keys():\n",
    "            hash_table[S_1q].append(q)\n",
    "        else:\n",
    "            hash_table[S_1q] = [q]\n",
    "    print(hash_table)\n",
    "    print(\"The possible subarray is {}\".format(answers))"
   ]
  },
  {
   "cell_type": "code",
   "execution_count": 121,
   "metadata": {},
   "outputs": [
    {
     "name": "stdout",
     "output_type": "stream",
     "text": [
      "0 {}\n",
      "1 {-1: [0]}\n",
      "2 {-1: [0], 1: [1], 0: [-1, 1]}\n",
      "3 {-1: [0], 1: [1, 2], 0: [-1, 1]}\n",
      "4 {-1: [0], 1: [1, 2, 3], 0: [-1, 1]}\n",
      "5 {-1: [0], 1: [1, 2, 3], 0: [-1, 1], 2: [4]}\n",
      "6 {-1: [0], 1: [1, 2, 3], 0: [-1, 1], 2: [4, 5]}\n",
      "7 {-1: [0], 1: [1, 2, 3], 0: [-1, 1], 2: [4, 5], 3: [6]}\n",
      "8 {-1: [0], 1: [1, 2, 3], 0: [-1, 1], 2: [4, 5], 3: [6, 7]}\n",
      "{-1: [0], 1: [1, 2, 3], 0: [-1, 1], 2: [4, 5], 3: [6, 7], 4: [8]}\n",
      "The possible subarray is [(1, 6), (1, 7), (0, 8), (2, 8)]\n"
     ]
    }
   ],
   "source": [
    "subarraySum(arr, 4)"
   ]
  },
  {
   "cell_type": "markdown",
   "metadata": {},
   "source": [
    "# Q3\n",
    "\n",
    "在一个二维矩阵中，寻找一个矩形的区域，使其中的数字之和达到最大值。 四星/五星"
   ]
  },
  {
   "cell_type": "markdown",
   "metadata": {},
   "source": [
    "好像只能按照 鳄鱼 老师的思路了。"
   ]
  },
  {
   "cell_type": "markdown",
   "metadata": {},
   "source": [
    "假定矩阵是m行，n列，\n",
    "\n",
    "把任意连续行相加就都变成了Q1里的问题。\n",
    "\n",
    "那么为了找到最大值就需要\n",
    "\n",
    "$ m+(m-1)+...+1 $次遍历行数，即 $O(m^2)$\n",
    "\n",
    "每行的运行成本是O(n),所以总成本是$O(nm^2)$\n",
    "\n",
    "\n",
    "优化一下，当m>n时， 选择把原矩阵倒置\n",
    "\n",
    "当m<n时，就按上述方法操作。"
   ]
  }
 ],
 "metadata": {
  "kernelspec": {
   "display_name": "Python 3",
   "language": "python",
   "name": "python3"
  },
  "language_info": {
   "codemirror_mode": {
    "name": "ipython",
    "version": 3
   },
   "file_extension": ".py",
   "mimetype": "text/x-python",
   "name": "python",
   "nbconvert_exporter": "python",
   "pygments_lexer": "ipython3",
   "version": "3.8.5"
  }
 },
 "nbformat": 4,
 "nbformat_minor": 4
}
