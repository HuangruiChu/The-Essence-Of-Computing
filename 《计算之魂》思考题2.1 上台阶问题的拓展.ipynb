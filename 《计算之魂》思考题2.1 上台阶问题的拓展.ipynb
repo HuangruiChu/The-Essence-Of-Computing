{
 "cells": [
  {
   "cell_type": "markdown",
   "metadata": {},
   "source": [
    "Author: Huangrui Chu\n",
    "\n",
    "Bachelor: Duke Kunshan University\n",
    "\n",
    "Master: Yale University\n",
    "\n",
    "Reference Book: 《The Essence Of Computing》Author: Jun Wu\n",
    "\n",
    "Reference Blog: https://zhuanlan.zhihu.com/p/485586966 Author:鳄鱼"
   ]
  },
  {
   "cell_type": "markdown",
   "metadata": {},
   "source": [
    "# 思考题2.1 上台阶问题的扩展\n",
    "\n",
    "有n级台阶，每次能够上k级，有多少种不同的攀登方法？  三星/五星\n",
    "\n",
    "斐波那契数据的拓展啦,\n",
    "\n",
    "对 鳄鱼 老师的结果做出的优化是 : \"空间换时间\"\n",
    "\n",
    "在我学习 斐波那契数列 以及 递归的时候，Daniel Lim 教授在那节课上讲到了 递归中存在的重复计算引起的巨大开销。\n",
    "\n",
    "因此我铭记在心 如果 递归中有调用前面算过的信息的话，还是把中间结果储存下来，用空间换时间比较好。"
   ]
  },
  {
   "cell_type": "markdown",
   "metadata": {},
   "source": [
    "### 我的解题"
   ]
  },
  {
   "cell_type": "code",
   "execution_count": 35,
   "metadata": {},
   "outputs": [],
   "source": [
    "dic={}\n",
    "\n",
    "def kstepstairs(k,n):\n",
    "    if (k,n) in dic.keys():\n",
    "        return dic[(k,n)]\n",
    "    else: \n",
    "        #有不同的走法，我在第n阶，可以从n-1,n-2,....n-k任意一个台阶走上来\n",
    "        if n==0:\n",
    "            return 1\n",
    "        else:\n",
    "            result=0\n",
    "            if n<=k:\n",
    "                for i in range(1,n+1):\n",
    "                    result+=kstepstairs(k,n-i)\n",
    "            else:\n",
    "                for i in range(1,k+1):\n",
    "                    result+=kstepstairs(k,n-i)\n",
    "        dic[(k,n)]=result\n",
    "        return result"
   ]
  },
  {
   "cell_type": "markdown",
   "metadata": {},
   "source": [
    "### 鳄鱼的解题"
   ]
  },
  {
   "cell_type": "code",
   "execution_count": 20,
   "metadata": {},
   "outputs": [],
   "source": [
    "def climbStairs(k, n):\n",
    "    if k == 1:\n",
    "        return 1\n",
    "    elif k >= 2:\n",
    "        if n == 0:\n",
    "            return 1\n",
    "        elif n >= 1:\n",
    "            result = 0\n",
    "            if n <= k:\n",
    "                #\n",
    "                for i in range(1, n+1, 1):\n",
    "                    result += climbStairs(k, n-i)\n",
    "            else:\n",
    "                for i in range(1, k+1, 1):\n",
    "                    result += climbStairs(k, n-i)\n",
    "            return result"
   ]
  },
  {
   "cell_type": "markdown",
   "metadata": {},
   "source": [
    "### 对比运行时间"
   ]
  },
  {
   "cell_type": "code",
   "execution_count": 41,
   "metadata": {},
   "outputs": [
    {
     "name": "stdout",
     "output_type": "stream",
     "text": [
      "2555757\n",
      "0.0\n"
     ]
    }
   ],
   "source": [
    "t1=time.time()\n",
    "print(kstepstairs(3,25))\n",
    "t2=time.time()\n",
    "print(t2-t1)"
   ]
  },
  {
   "cell_type": "code",
   "execution_count": 40,
   "metadata": {},
   "outputs": [
    {
     "name": "stdout",
     "output_type": "stream",
     "text": [
      "2555757\n",
      "1.8350913524627686\n"
     ]
    }
   ],
   "source": [
    "import time\n",
    "t1=time.time()\n",
    "print(climbStairs(3,25))\n",
    "t2=time.time()\n",
    "print(t2-t1)"
   ]
  },
  {
   "cell_type": "markdown",
   "metadata": {},
   "source": [
    "# 其他可以参考的链接"
   ]
  },
  {
   "cell_type": "markdown",
   "metadata": {},
   "source": [
    "在C语言中，知道n后可以申请 长度为n的array 来代替 我这边使用的dictionary\n",
    "\n",
    "https://blog.csdn.net/qq_40905198/article/details/102491844"
   ]
  }
 ],
 "metadata": {
  "kernelspec": {
   "display_name": "Python 3",
   "language": "python",
   "name": "python3"
  },
  "language_info": {
   "codemirror_mode": {
    "name": "ipython",
    "version": 3
   },
   "file_extension": ".py",
   "mimetype": "text/x-python",
   "name": "python",
   "nbconvert_exporter": "python",
   "pygments_lexer": "ipython3",
   "version": "3.8.5"
  }
 },
 "nbformat": 4,
 "nbformat_minor": 4
}
