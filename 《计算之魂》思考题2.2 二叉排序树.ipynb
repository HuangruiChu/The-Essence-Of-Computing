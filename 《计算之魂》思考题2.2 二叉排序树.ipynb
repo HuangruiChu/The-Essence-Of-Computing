{
 "cells": [
  {
   "cell_type": "markdown",
   "metadata": {},
   "source": [
    "Author: Huangrui Chu\n",
    "\n",
    "Bachelor: Duke Kunshan University\n",
    "\n",
    "Master: Yale University\n",
    "\n",
    "Reference Book: 《The Essence Of Computing》Author: Jun Wu\n",
    "\n",
    "Reference Blog: https://zhuanlan.zhihu.com/p/489145690 Author:鳄鱼"
   ]
  },
  {
   "cell_type": "markdown",
   "metadata": {},
   "source": [
    "# 思考题2.2\n",
    "\n",
    "Q1. 修改中序遍历算法2.2，将它变成先序遍历或者后序遍历算法。  一星/五星\n",
    "\n",
    "Q2. （二叉排序树）有这样一串数字，5，2，8，0，10，7，18，20，30，12，15，1，将它们建成一颗二叉排序树。二叉排序树满足下面的条件：\n",
    "\n",
    "二星/五星\n",
    "\n",
    "（1）如果左子树不为空，则左子树上所有的节点的值均小于树的根节点的值。同样，如果右子树不为空，则右子树上所有节点的值均大于输的根节点的值。\n",
    "\n",
    "（2）左右子树本身也是二叉排序树。\n",
    "\n",
    "对于上述数字，我们在建立二叉排序树时，先把第一个数字5放在根节点，然后扫描第二个数字2，由于它比根节点的数字5小，因此我们将它放在左子树中。接下来我们扫描第三个数字8，由于它比根节点的数字5大，因此我们将它放在右子树中。重复上述过程，我们可以建成完整的二叉排序树。请完成下面三个小问题：\n",
    "\n",
    "i：写一个算法完成上述操作。\n",
    "\n",
    "ii：这个算法的复杂度是多少？\n",
    "\n",
    "iii：用何种遍历方法得到的结果恰好把上面的一串数字排好序？"
   ]
  },
  {
   "cell_type": "markdown",
   "metadata": {},
   "source": [
    "### 我的解题"
   ]
  },
  {
   "cell_type": "markdown",
   "metadata": {},
   "source": [
    "### Q1"
   ]
  },
  {
   "cell_type": "markdown",
   "metadata": {},
   "source": [
    "### 算法2.2 树的深度优先遍历(伪代码）"
   ]
  },
  {
   "cell_type": "markdown",
   "metadata": {},
   "source": [
    "struct BinaryTree\n",
    "\n",
    "{\n",
    "\n",
    "    AnyDataMember;\n",
    "    \n",
    "    BinaryTree left_subtree;\n",
    "    \n",
    "    BinaryTree right_subtree;\n",
    "    \n",
    "}"
   ]
  },
  {
   "cell_type": "markdown",
   "metadata": {},
   "source": [
    "### 中序遍历\n",
    "\n",
    "中序遍历是二叉树遍历的一种，也叫做中根遍历、中序周游。在二叉树中，中序遍历首先遍历左子树，然后访问根结点，最后遍历右子树。 --百度百科"
   ]
  },
  {
   "cell_type": "markdown",
   "metadata": {},
   "source": [
    "DepthFirstTraverseTree(BinaryTree tree)  #中序遍历\n",
    "\n",
    "{\n",
    "\n",
    "    if (tree = NIL) return;//树为空，不做任何事，直接返回\n",
    "    \n",
    "    DepthFirstTraverseTree (tree.left_subtree);//遍历左子树\n",
    "    \n",
    "    PrintNode();//对当前节点做相应的处理，比如打印当前节点的信息\n",
    "    \n",
    "    DepthFirstTraverseTree (tree.right_subtree);//遍历右子树\n",
    "    \n",
    "}"
   ]
  },
  {
   "cell_type": "markdown",
   "metadata": {},
   "source": [
    "### 先序遍历\n",
    "\n",
    "先序遍历也叫做 先根遍历 、 前序遍历 ，可记做根左右（二叉树父结点向下先左后右）。 首先访问根结点然后遍历左子树，最后遍历右子树。 在遍历左、右子树时，仍然先访问根结点，然后遍历左子树，最后遍历右子树，如果二叉树为空则返回。 --百度百科"
   ]
  },
  {
   "cell_type": "markdown",
   "metadata": {},
   "source": [
    "DepthFirstTraverseTree(BinaryTree tree)  #先序遍历\n",
    "\n",
    "{\n",
    "\n",
    "    if (tree = NIL) return;//树为空，不做任何事，直接返回\n",
    "    \n",
    "    PrintNode();//对当前节点做相应的处理，比如打印当前节点的信息\n",
    "    \n",
    "    DepthFirstTraverseTree (tree.left_subtree);//遍历左子树\n",
    "    \n",
    "    DepthFirstTraverseTree (tree.right_subtree);//遍历右子树\n",
    "    \n",
    "}"
   ]
  },
  {
   "cell_type": "markdown",
   "metadata": {},
   "source": [
    "### 后序遍历\n",
    "\n",
    "后序遍历（LRD）是二叉树遍历的一种，也叫做后根遍历、后序周游，可记做左右根。后序遍历有递归算法和非递归算法两种。在二叉树中，先左后右再根，即首先遍历左子树，然后遍历右子树，最后访问根结点。    --百度百科"
   ]
  },
  {
   "cell_type": "markdown",
   "metadata": {},
   "source": [
    "DepthFirstTraverseTree(BinaryTree tree)  #后序遍历\n",
    "\n",
    "{\n",
    "\n",
    "    if (tree = NIL) return;//树为空，不做任何事，直接返回\n",
    "    \n",
    "    DepthFirstTraverseTree (tree.left_subtree);//遍历左子树\n",
    "    \n",
    "    DepthFirstTraverseTree (tree.right_subtree);//遍历右子树\n",
    "    \n",
    "    PrintNode();//对当前节点做相应的处理，比如打印当前节点的信息\n",
    "    \n",
    "}"
   ]
  },
  {
   "cell_type": "markdown",
   "metadata": {},
   "source": [
    "### Q2"
   ]
  },
  {
   "cell_type": "code",
   "execution_count": 10,
   "metadata": {},
   "outputs": [],
   "source": [
    "class Node:\n",
    "    def __init__(self,value):\n",
    "        self.value=value\n",
    "        self.left=None\n",
    "        self.right=None\n",
    "def DepthFirstTraverseTree(node):\n",
    "    #中序排列\n",
    "    if node==None:\n",
    "        return \n",
    "    DepthFirstTraverseTree(node.left)\n",
    "    print(node.value)\n",
    "    DepthFirstTraverseTree(node.right)"
   ]
  },
  {
   "cell_type": "code",
   "execution_count": 7,
   "metadata": {},
   "outputs": [],
   "source": [
    "def BinarySortedTree(number, root):\n",
    "    if (number < root.value):\n",
    "        if (root.left== None):\n",
    "            root.left = Node(number)\n",
    "        else:\n",
    "            root = root.left;\n",
    "            BinarySortedTree(number, root);\n",
    "        \n",
    "    elif (number > root.value):\n",
    "        if (root.right==None):\n",
    "            root.right=Node(number)\n",
    "        else:\n",
    "            root = root.right\n",
    "            BinarySortedTree(number, root);"
   ]
  },
  {
   "cell_type": "code",
   "execution_count": 8,
   "metadata": {},
   "outputs": [],
   "source": [
    "root = Node(5)\n",
    "num_list=[2,8,0,10,7,18,20,30,15,1]\n",
    "for num in num_list:\n",
    "    BinarySortedTree(num, root)"
   ]
  },
  {
   "cell_type": "code",
   "execution_count": 11,
   "metadata": {},
   "outputs": [
    {
     "name": "stdout",
     "output_type": "stream",
     "text": [
      "0\n",
      "1\n",
      "2\n",
      "5\n",
      "7\n",
      "8\n",
      "10\n",
      "15\n",
      "18\n",
      "20\n",
      "30\n"
     ]
    }
   ],
   "source": [
    "DepthFirstTraverseTree(root)"
   ]
  },
  {
   "cell_type": "markdown",
   "metadata": {},
   "source": [
    "#### 算法复杂度分析"
   ]
  },
  {
   "cell_type": "markdown",
   "metadata": {},
   "source": [
    "首先，我们要考虑遍历整个数据序列的时间复杂度。若序列长度为N，则时间复杂度为 $O(N)$。\n",
    "\n",
    "接下来，我们要思考构建二叉排序树的时间复杂度。这本质上是一个排序的问题。最差的情况，原序列是完全有序的，则构造出的二叉树深度与序列长度相等(N)；最好的情况则是可以构造出一个平衡二叉树，则二叉树的高度为$log_2N$。\n",
    "\n",
    "所以，此算法的时间复杂度在 $O(Nlog_2N)$ 和 $O(N^2)$之间。"
   ]
  },
  {
   "cell_type": "markdown",
   "metadata": {},
   "source": [
    "#### 用何种遍历方法得到的结果恰好把上面的一串数字排好序？"
   ]
  },
  {
   "cell_type": "markdown",
   "metadata": {},
   "source": [
    "中序遍历"
   ]
  }
 ],
 "metadata": {
  "kernelspec": {
   "display_name": "Python 3",
   "language": "python",
   "name": "python3"
  },
  "language_info": {
   "codemirror_mode": {
    "name": "ipython",
    "version": 3
   },
   "file_extension": ".py",
   "mimetype": "text/x-python",
   "name": "python",
   "nbconvert_exporter": "python",
   "pygments_lexer": "ipython3",
   "version": "3.8.5"
  }
 },
 "nbformat": 4,
 "nbformat_minor": 4
}
