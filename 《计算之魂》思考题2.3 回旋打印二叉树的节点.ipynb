{
 "cells": [
  {
   "cell_type": "markdown",
   "metadata": {},
   "source": [
    "Author: Huangrui Chu\n",
    "\n",
    "Bachelor: Duke Kunshan University\n",
    "\n",
    "Master: Yale University\n",
    "\n",
    "Reference Book: 《The Essence Of Computing》Author: Jun Wu\n",
    "\n",
    "Reference Blog: https://zhuanlan.zhihu.com/p/489842614 Author:鳄鱼"
   ]
  },
  {
   "cell_type": "markdown",
   "metadata": {},
   "source": [
    "# 思考题2.3\n",
    "\n",
    "Q1. 写出简单计算器的伪代码。一星/五星\n",
    "\n",
    "Q2. 回旋打印二叉树的节点。（吴军使用过的面试题） 三星/五星\n",
    "\n",
    "修改而常熟的官渡遍历算法，使得偶数行的节点从左向右遍历，奇数行的节点从右向左遍历。比如图2.8所示的二叉树，遍历的的顺序为1->2->3->6->5->4->7。"
   ]
  },
  {
   "cell_type": "markdown",
   "metadata": {},
   "source": [
    "![图一](./图2.8典型的二叉树.png)"
   ]
  },
  {
   "cell_type": "markdown",
   "metadata": {},
   "source": [
    "### 我的解题"
   ]
  },
  {
   "cell_type": "markdown",
   "metadata": {},
   "source": [
    "### Q1"
   ]
  },
  {
   "cell_type": "markdown",
   "metadata": {},
   "source": [
    "### 简单计算器问题 （在我的例题11.6 计算器问题有后续思考的代码）\n",
    "\n",
    "实现一个简单计算器，它支持不带括号的四则运算，计算器要满足先乘除后加减的规则。\n",
    "\n",
    "通常计算器的输入是一串字符，我们会从左到右扫描这个字符，扫到哪里就用一个指针指向哪里。\n",
    "\n",
    "这里运用的堆栈的先进后出的规则，并且利用了python可以储存任意type的数据的优点。\n",
    "\n",
    "使用了dictionary 来储存 各个运算符号的 优先级， 优先级越高，数值越大。\n",
    "\n",
    "细节1：使用计算器时，数字是一个键一个键输入进去的。如果输入14.54，其实输入了5个字符，只不过它们被转换成一个浮点数而已。\n",
    "\n",
    "吴军老师的话：“在设计计算器时，要留意如何将字符串转换成数字，要记住数字转换的优先级高于任何计算符即可。\n",
    "\n",
    "细节2：书中的例题是5+4*3/4，因此在遇到\"/\"这个与\"*\"相同优先级的符号时，是会先计算\"*\"不错。但如果是 5+4*3-4= 呢？其实我们在遇到\"-\"时就应该去计算\"*\"而不是等待遇到下一个\"*\"或者\"/\"，在这个情况，要考虑到前面可能有积压在栈里的 5 + 这个待运算的部分，因此，在算完这一部分\"*\"时要记得检查 堆栈 是否清空， 不然，等遇到 5-12-4的时候就难处理了（如果按照之前的算法，答案就会是5-8=-3）\n",
    "\n",
    "细节3：遇到\"=\"时在计算完结果后，不要把结果压入栈后就结束，而是要去检查堆栈是否清空。以5+4*3/4=为例，遇到等号，会计算出 12/4=3，那么堆栈就剩[5,+,3] 不为空，不能把3 直接当成整个式子的计算结果直接输出。\n",
    "\n",
    "新知识：判断deque是否为空\n",
    "\n",
    "if deque:\n",
    "\n",
    "    #不为空\n",
    "    \n",
    "else:\n",
    "\n",
    "    #deque空了"
   ]
  },
  {
   "cell_type": "code",
   "execution_count": 12,
   "metadata": {},
   "outputs": [],
   "source": [
    "from collections import deque #引入stack 堆栈\n",
    "\n",
    "class SimpleOperator:\n",
    "    def __init__(self,Operator_Precedence):\n",
    "        self.OP= Operator_Precedence #Operator Precedence=OP, type: dictionary\n",
    "        self.stack=deque()\n",
    "        \n",
    "    def update_Operator_Precedence(self,Operator_Precedence):\n",
    "        self.OP=Operator_Precedence\n",
    "    \n",
    "    def __calculate(self):\n",
    "        b=self.stack.pop()#because of the FILO, the b is the first number that pop out\n",
    "        operator=self.stack.pop()# pop out the operator\n",
    "        a=self.stack.pop()#because of the FILO, the a is the second number that pop out\n",
    "        if operator==\"+\":\n",
    "            self.stack.append(a+b)\n",
    "        elif operator==\"-\":\n",
    "            self.stack.append(a-b)\n",
    "        elif operator==\"*\":\n",
    "            self.stack.append(a*b)\n",
    "        elif operator==\"/\":\n",
    "            if b==0:\n",
    "                raise ValueError(\"could not devided by 0\")\n",
    "            self.stack.append(a/b)\n",
    "            \n",
    "    def calculate(self,input_string):\n",
    "        self.input_string=input_string\n",
    "        previous_is_number=False\n",
    "        is_float=False\n",
    "        self.top_operator=None #储存栈内最顶部的运算符\n",
    "        for i in range(len(self.input_string)):\n",
    "            char=self.input_string[i]\n",
    "            print(char)\n",
    "            if char>=\"0\" and char<=\"9\":#如果是数字的话，就存入stack\n",
    "                if previous_is_number:\n",
    "                    if is_float:\n",
    "                        previous_number=str(self.stack.pop())\n",
    "                        current_number=float(previous_number+char)\n",
    "                        self.stack.append(current_number)\n",
    "                        print(self.stack)\n",
    "                    else:\n",
    "                        previous_number=str(self.stack.pop())\n",
    "                        current_number=int(previous_number+char)\n",
    "                        self.stack.append(current_number)\n",
    "                        is_float=False\n",
    "                        print(self.stack)\n",
    "                else:\n",
    "                    self.stack.append(int(char))\n",
    "                    print(self.stack)\n",
    "                    previous_is_number=True\n",
    "                    is_float=False\n",
    "            else:#如果是运算符的话，遇到同级的，就要开始前面的计算。\n",
    "                #第一步，把前面的\n",
    "                previous_is_number=False\n",
    "                if char==\".\":\n",
    "                    #最高优先级：数字转换 （例如 15.43）\n",
    "                    previous_is_number=True #数字转换后，前面仍为数字\n",
    "                    is_float=True\n",
    "                    current_number=str(self.stack.pop())+\".\"\n",
    "                    self.stack.append(current_number)\n",
    "                    print(self.stack)\n",
    "                elif self.top_operator==None:\n",
    "                    self.top_operator=char\n",
    "                    self.stack.append(char)\n",
    "                    print(self.stack)\n",
    "                elif char == \"=\":\n",
    "                    self.__calculate()\n",
    "                    result=self.stack.pop()\n",
    "                    #check whether the stack is empty or not  \n",
    "                    if self.stack:#if the stack is not empty, we need to do one more step of calculation\n",
    "                        print(self.stack)\n",
    "                        self.stack.append(result)\n",
    "                        self.__calculate()\n",
    "                        result=self.stack.pop()\n",
    "                    #Then we can print out the cutcome\n",
    "                    print(\"The result is {}\".format(result))\n",
    "                    print(self.stack)\n",
    "                else:\n",
    "                    if self.OP[char]==self.OP[self.top_operator]:\n",
    "                        self.__calculate()\n",
    "                        self.stack.append(char)\n",
    "                        self.top_operator=char\n",
    "                        print(self.stack)\n",
    "                    elif self.OP[char]>self.OP[self.top_operator]:\n",
    "                        self.top_operator=char\n",
    "                        self.stack.append(char)\n",
    "                        print(self.stack)\n",
    "                    if self.OP[char]<self.OP[self.top_operator]:\n",
    "                        #比如5-4*3+2= 遇到+号时\n",
    "                        if self.top_operator!=\"(\":\n",
    "                            #只要不是（，我们就可以去计算\n",
    "                            self.__calculate()\n",
    "                            result=self.stack.pop()\n",
    "                            print(result)\n",
    "                            print(self.stack)\n",
    "                            if self.stack:\n",
    "                                #如果是因为有“*”，“/”积压下的计算\n",
    "                                self.stack.append(result)\n",
    "                                self.__calculate()\n",
    "                            self.stack.append(char)\n",
    "                            self.top_operator=char"
   ]
  },
  {
   "cell_type": "code",
   "execution_count": 13,
   "metadata": {},
   "outputs": [],
   "source": [
    "Operator_Precedence=dict()\n",
    "Operator_Precedence[\"+\"]=1\n",
    "Operator_Precedence[\"-\"]=1\n",
    "Operator_Precedence[\"*\"]=2\n",
    "Operator_Precedence[\"/\"]=2"
   ]
  },
  {
   "cell_type": "code",
   "execution_count": 14,
   "metadata": {},
   "outputs": [],
   "source": [
    "CHR_operator=SimpleOperator(Operator_Precedence)"
   ]
  },
  {
   "cell_type": "code",
   "execution_count": 15,
   "metadata": {},
   "outputs": [],
   "source": [
    "input_string=\"5-4.0*3.57+45.2577=\""
   ]
  },
  {
   "cell_type": "code",
   "execution_count": 16,
   "metadata": {},
   "outputs": [
    {
     "name": "stdout",
     "output_type": "stream",
     "text": [
      "5\n",
      "deque([5])\n",
      "-\n",
      "deque([5, '-'])\n",
      "4\n",
      "deque([5, '-', 4])\n",
      ".\n",
      "deque([5, '-', '4.'])\n",
      "0\n",
      "deque([5, '-', 4.0])\n",
      "*\n",
      "deque([5, '-', 4.0, '*'])\n",
      "3\n",
      "deque([5, '-', 4.0, '*', 3])\n",
      ".\n",
      "deque([5, '-', 4.0, '*', '3.'])\n",
      "5\n",
      "deque([5, '-', 4.0, '*', 3.5])\n",
      "7\n",
      "deque([5, '-', 4.0, '*', 3.57])\n",
      "+\n",
      "14.28\n",
      "deque([5, '-'])\n",
      "4\n",
      "deque([-9.28, '+', 4])\n",
      "5\n",
      "deque([-9.28, '+', 45])\n",
      ".\n",
      "deque([-9.28, '+', '45.'])\n",
      "2\n",
      "deque([-9.28, '+', 45.2])\n",
      "5\n",
      "deque([-9.28, '+', 45.25])\n",
      "7\n",
      "deque([-9.28, '+', 45.257])\n",
      "7\n",
      "deque([-9.28, '+', 45.2577])\n",
      "=\n",
      "The result is 35.9777\n",
      "deque([])\n"
     ]
    }
   ],
   "source": [
    "CHR_operator.calculate(input_string)"
   ]
  },
  {
   "cell_type": "code",
   "execution_count": 2,
   "metadata": {},
   "outputs": [],
   "source": [
    "class Node:\n",
    "    def __init__(self,value):\n",
    "        self.value=value\n",
    "        self.left=None\n",
    "        self.right=None\n",
    "        \n",
    "import queue\n",
    "def BreathFirstTraverseTree(node):\n",
    "    if node==None:\n",
    "        return\n",
    "    temp_queue=queue.Queue()\n",
    "    temp_queue.put(node)\n",
    "    while(not temp_queue.empty()):\n",
    "        node=temp_queue.get()\n",
    "        print(node.value)\n",
    "        if node.left!=None:\n",
    "            temp_queue.put(node.left)\n",
    "        if node.right!=None:\n",
    "            temp_queue.put(node.right)"
   ]
  },
  {
   "cell_type": "code",
   "execution_count": 3,
   "metadata": {},
   "outputs": [],
   "source": [
    "root=Node(1)\n",
    "root.left=Node(2)\n",
    "root.right=Node(3)\n",
    "root.left.left=Node(4)\n",
    "root.left.right=Node(5)\n",
    "root.right.left=Node(6)\n",
    "root.right.left.right=Node(7)"
   ]
  },
  {
   "cell_type": "code",
   "execution_count": 4,
   "metadata": {},
   "outputs": [
    {
     "name": "stdout",
     "output_type": "stream",
     "text": [
      "1\n",
      "2\n",
      "3\n",
      "4\n",
      "5\n",
      "6\n",
      "7\n"
     ]
    }
   ],
   "source": [
    "BreathFirstTraverseTree(root)"
   ]
  },
  {
   "cell_type": "code",
   "execution_count": 23,
   "metadata": {},
   "outputs": [],
   "source": [
    "class stack_queue():\n",
    "    def __init__(self):\n",
    "        self.list=[]\n",
    "    def pop(self):\n",
    "        return self.list.pop()\n",
    "    def get(self):\n",
    "        result=self.list[0]\n",
    "        self.list=self.list[1:]\n",
    "        return result\n",
    "    def append(self,node):\n",
    "        self.list.append(node)\n",
    "    def insert(self,node):\n",
    "        self.list=[node]+self.list"
   ]
  },
  {
   "cell_type": "markdown",
   "metadata": {},
   "source": [
    "#### 解题思路\n",
    "\n",
    "stack queue 交替使用。 为了方便设计了stack_queue这样的储存结构。\n",
    "\n",
    "为了标注每一行的node，使用了queue去储存level"
   ]
  },
  {
   "cell_type": "code",
   "execution_count": 24,
   "metadata": {},
   "outputs": [],
   "source": [
    "import queue\n",
    "def CyclePrint(node):\n",
    "    if node==None:\n",
    "        return\n",
    "    nodes=stack_queue()\n",
    "    nodes.append(node)\n",
    "    level_queue=queue.Queue()\n",
    "    level_queue.put(1)\n",
    "    while(not level_queue.empty()):\n",
    "        level=level_queue.get()\n",
    "        if level%2==1:\n",
    "            node=nodes.get()\n",
    "            print(node.value)\n",
    "            #父节点为基数，则按照右左添加子叶\n",
    "            if node.right!=None:\n",
    "                nodes.append(node.right)\n",
    "                level_queue.put(level+1)\n",
    "            if node.left!=None:\n",
    "                nodes.append(node.left)\n",
    "                level_queue.put(level+1)\n",
    "        else:\n",
    "            node=nodes.pop()\n",
    "            print(node.value)\n",
    "            #父节点为偶数，则按照左右添加子叶\n",
    "            if node.left!=None:\n",
    "                nodes.insert(node.left)\n",
    "                level_queue.put(level+1)\n",
    "            if node.right!=None:\n",
    "                nodes.insert(node.right)\n",
    "                level_queue.put(level+1)\n",
    "\n",
    "       "
   ]
  },
  {
   "cell_type": "code",
   "execution_count": 25,
   "metadata": {},
   "outputs": [
    {
     "name": "stdout",
     "output_type": "stream",
     "text": [
      "1\n",
      "2\n",
      "3\n",
      "6\n",
      "5\n",
      "4\n",
      "7\n"
     ]
    }
   ],
   "source": [
    "CyclePrint(root)"
   ]
  },
  {
   "cell_type": "markdown",
   "metadata": {},
   "source": [
    "#### 解题思路2\n",
    "\n",
    "stack queue 交替使用。 发现collections.deque 可以实现popleft() 而且是O（1）如果到时候可以import 也可以试试\n",
    "\n",
    "\n",
    "为了标注每一行的node，使用了queue去储存level"
   ]
  }
 ],
 "metadata": {
  "kernelspec": {
   "display_name": "Python 3",
   "language": "python",
   "name": "python3"
  },
  "language_info": {
   "codemirror_mode": {
    "name": "ipython",
    "version": 3
   },
   "file_extension": ".py",
   "mimetype": "text/x-python",
   "name": "python",
   "nbconvert_exporter": "python",
   "pygments_lexer": "ipython3",
   "version": "3.8.5"
  }
 },
 "nbformat": 4,
 "nbformat_minor": 4
}
