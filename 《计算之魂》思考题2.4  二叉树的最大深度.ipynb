{
 "cells": [
  {
   "cell_type": "markdown",
   "metadata": {},
   "source": [
    "Author: Huangrui Chu\n",
    "\n",
    "Bachelor: Duke Kunshan University\n",
    "\n",
    "Master: Yale University\n",
    "\n",
    "Reference Book: 《The Essence Of Computing》Author: Jun Wu\n",
    "\n",
    "Reference Blog: https://zhuanlan.zhihu.com/p/493765699 Author:鳄鱼"
   ]
  },
  {
   "cell_type": "markdown",
   "metadata": {},
   "source": [
    "# 思考题2.4\n",
    "\n",
    "Q1. 二叉树的最大深度（也被称为树的高度）是从根节点到最远的叶子节点的节点数。请写出一个判定任意二叉树最大深度的算法。  一星/五星\n",
    "\n",
    "Q2. 如何在一个二叉排序树中找到第二大的元素？  二星/五星\n"
   ]
  },
  {
   "cell_type": "markdown",
   "metadata": {},
   "source": [
    "![图一](./图2.8典型的二叉树.png)"
   ]
  },
  {
   "cell_type": "markdown",
   "metadata": {},
   "source": [
    "### 我的解题"
   ]
  },
  {
   "cell_type": "markdown",
   "metadata": {},
   "source": [
    "### Q1\n",
    "\n",
    "修改BreathFirstTraverseTree，在遍历完所有的点后，就知道树的高度是什么了。"
   ]
  },
  {
   "cell_type": "code",
   "execution_count": 3,
   "metadata": {},
   "outputs": [],
   "source": [
    "class Node:\n",
    "    def __init__(self,value):\n",
    "        self.value=value\n",
    "        self.left=None\n",
    "        self.right=None\n",
    "        \n",
    "import queue\n",
    "def BreathFirstTraverseTree(node):\n",
    "    if node==None:\n",
    "        return\n",
    "    temp_queue=queue.Queue()\n",
    "    temp_queue.put(node)\n",
    "    while(not temp_queue.empty()):\n",
    "        node=temp_queue.get()\n",
    "        print(node.value)\n",
    "        if node.left!=None:\n",
    "            temp_queue.put(node.left)\n",
    "        if node.right!=None:\n",
    "            temp_queue.put(node.right)"
   ]
  },
  {
   "cell_type": "code",
   "execution_count": 4,
   "metadata": {},
   "outputs": [],
   "source": [
    "def GetTreeDepth(node):\n",
    "    if node==None:\n",
    "        return\n",
    "    temp_queue=queue.Queue()\n",
    "    temp_queue.put(node)\n",
    "    level_queue=queue.Queue()\n",
    "    level_queue.put(1)\n",
    "    while(not temp_queue.empty()):\n",
    "        node=temp_queue.get()\n",
    "        level=level_queue.get()\n",
    "        if node.left!=None:\n",
    "            temp_queue.put(node.left)\n",
    "            level_queue.put(level+1)\n",
    "        if node.right!=None:\n",
    "            temp_queue.put(node.right)\n",
    "            level_queue.put(level+1)\n",
    "    #完成了遍历，return level就好\n",
    "    print(\"The depth of this tree is {}\".format(level))\n",
    "    return level"
   ]
  },
  {
   "cell_type": "markdown",
   "metadata": {},
   "source": [
    "#### 按照图2.8 建树"
   ]
  },
  {
   "cell_type": "code",
   "execution_count": 5,
   "metadata": {},
   "outputs": [],
   "source": [
    "root=Node(1)\n",
    "root.left=Node(2)\n",
    "root.right=Node(3)\n",
    "root.left.left=Node(4)\n",
    "root.left.right=Node(5)\n",
    "root.right.left=Node(6)\n",
    "root.right.left.right=Node(7)"
   ]
  },
  {
   "cell_type": "code",
   "execution_count": 6,
   "metadata": {},
   "outputs": [
    {
     "name": "stdout",
     "output_type": "stream",
     "text": [
      "1\n",
      "2\n",
      "3\n",
      "4\n",
      "5\n",
      "6\n",
      "7\n"
     ]
    }
   ],
   "source": [
    "BreathFirstTraverseTree(root)"
   ]
  },
  {
   "cell_type": "code",
   "execution_count": 7,
   "metadata": {},
   "outputs": [
    {
     "name": "stdout",
     "output_type": "stream",
     "text": [
      "The depth of this tree is 4\n"
     ]
    },
    {
     "data": {
      "text/plain": [
       "4"
      ]
     },
     "execution_count": 7,
     "metadata": {},
     "output_type": "execute_result"
    }
   ],
   "source": [
    "GetTreeDepth(root)"
   ]
  },
  {
   "cell_type": "markdown",
   "metadata": {},
   "source": [
    "### Q2. \n",
    "\n",
    "如何在一个二叉排序树中找到第二大的元素？  二星/五星\n",
    "\n",
    "\n",
    "思路： 判断 right 是否为空，如果为空，那么当前的node就是最大的元素。\n",
    "\n",
    "情况1： 这个二叉排序树是左树（即根节点右侧无叶子），那么第二大元素是 root.left 或者 root.left.right\n",
    "\n",
    "情况2： 二叉排序树的root右侧有叶子，那么遍历到 node.right.right 为空的情况下：\n",
    "        \n",
    "      分支1.node.right.left 不为空， 则 node.right.left 为第二大元素\n",
    "      \n",
    "      分支2. node.right.left 为空， 则 node 为第二大元素\n",
    "\n",
    "\n",
    "整合一下思路，发现还是鳄鱼老师的伪代码写的更精简些"
   ]
  },
  {
   "cell_type": "code",
   "execution_count": 9,
   "metadata": {},
   "outputs": [],
   "source": [
    "def BinarySortedTree(number, root):\n",
    "    if (number < root.value):\n",
    "        if (root.left== None):\n",
    "            root.left = Node(number)\n",
    "        else:\n",
    "            root = root.left;\n",
    "            BinarySortedTree(number, root);\n",
    "        \n",
    "    elif (number > root.value):\n",
    "        if (root.right==None):\n",
    "            root.right=Node(number)\n",
    "        else:\n",
    "            root = root.right\n",
    "            BinarySortedTree(number, root);"
   ]
  },
  {
   "cell_type": "code",
   "execution_count": 18,
   "metadata": {},
   "outputs": [],
   "source": [
    "root = Node(5)\n",
    "#num_list=[2,8,0,10,7,18,20,30,15,1]\n",
    "#num_list=[9,8,7,6,5,4,3,2,1]\n",
    "num_list=[9,8,8.5,7,6,5,4,3,2,1]\n",
    "for num in num_list:\n",
    "    BinarySortedTree(num, root)"
   ]
  },
  {
   "cell_type": "code",
   "execution_count": 19,
   "metadata": {},
   "outputs": [],
   "source": [
    "def GetSecMaxNode(root):\n",
    "    max_node=root\n",
    "    sec_max_node=root\n",
    "    while (max_node.right != None):\n",
    "        sec_max_node = max_node\n",
    "        max_node = max_node.right #一直找到最后一个没有右子树的节点\n",
    "    if (max_node.left != None):\n",
    "        \n",
    "        sec_max_node = max_node.left;\n",
    "        \n",
    "        while (sec_max_node.right != None):\n",
    "        \n",
    "            sec_max_node = sec_max_node.right#一直找到左子树中最大的节点，就是树的第二大节点\n",
    "    print(\"second max node is {}\".format(sec_max_node.value))\n",
    "    return sec_max_node"
   ]
  },
  {
   "cell_type": "code",
   "execution_count": 20,
   "metadata": {},
   "outputs": [
    {
     "name": "stdout",
     "output_type": "stream",
     "text": [
      "second max node is 8.5\n"
     ]
    },
    {
     "data": {
      "text/plain": [
       "<__main__.Node at 0x182aad12760>"
      ]
     },
     "execution_count": 20,
     "metadata": {},
     "output_type": "execute_result"
    }
   ],
   "source": [
    "second_max_node=GetSecMaxNode(root)"
   ]
  },
  {
   "cell_type": "code",
   "execution_count": null,
   "metadata": {},
   "outputs": [],
   "source": []
  }
 ],
 "metadata": {
  "kernelspec": {
   "display_name": "Python 3",
   "language": "python",
   "name": "python3"
  },
  "language_info": {
   "codemirror_mode": {
    "name": "ipython",
    "version": 3
   },
   "file_extension": ".py",
   "mimetype": "text/x-python",
   "name": "python",
   "nbconvert_exporter": "python",
   "pygments_lexer": "ipython3",
   "version": "3.8.5"
  }
 },
 "nbformat": 4,
 "nbformat_minor": 4
}
