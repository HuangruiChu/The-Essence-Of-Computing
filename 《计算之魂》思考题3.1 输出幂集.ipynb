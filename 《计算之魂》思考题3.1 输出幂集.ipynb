{
 "cells": [
  {
   "cell_type": "markdown",
   "metadata": {},
   "source": [
    "Author: Huangrui Chu\n",
    "\n",
    "Bachelor: Duke Kunshan University\n",
    "\n",
    "Master: Yale University\n",
    "\n",
    "Reference Book: 《The Essence Of Computing》Author: Jun Wu\n",
    "\n",
    "Reference Blog: https://zhuanlan.zhihu.com/p/494730794 Author:鳄鱼"
   ]
  },
  {
   "cell_type": "markdown",
   "metadata": {},
   "source": [
    "# 思考题3.1\n",
    "\n",
    "给定一个集合，如何输出它的幂集？\n",
    "\n",
    "提示：一种不好的方法是，考虑幂集中包括一个元素、两个元素、三个元素……的情况；好的方法是对幂集中的所有元素统一编码。 二星/五星\n"
   ]
  },
  {
   "cell_type": "markdown",
   "metadata": {},
   "source": [
    "### 我的解题"
   ]
  },
  {
   "cell_type": "markdown",
   "metadata": {},
   "source": [
    "对于集合$A$,假定它有n个元素分别是$a_1,a_2,...,a_n$, 把他们编号为$0,1,2,3,..n-1$,对于每个子集，由长度为n的1，0元素组成的list表示。 如果元素$a_i$在子集中，则对应位置的$i-1$的数字为1，反之为0。"
   ]
  },
  {
   "cell_type": "markdown",
   "metadata": {},
   "source": [
    "tips：\n",
    "\n",
    "1. 利用 format 可以把 int 转成 二进制表达\n",
    "\n",
    "2. 利用zfill 可以把输出固定在特定长度\n",
    "\n",
    "3. 利用初中数学知识可以知道一个有n个元素的集合的幂集一共有$2^n$个元素"
   ]
  },
  {
   "cell_type": "code",
   "execution_count": 17,
   "metadata": {},
   "outputs": [
    {
     "data": {
      "text/plain": [
       "'00000011'"
      ]
     },
     "execution_count": 17,
     "metadata": {},
     "output_type": "execute_result"
    }
   ],
   "source": [
    "a=\"{:b}\".format(3).zfill(8)\n",
    "a"
   ]
  },
  {
   "cell_type": "code",
   "execution_count": 21,
   "metadata": {},
   "outputs": [],
   "source": [
    "def getPowerSet(inputset):\n",
    "    n=len(inputset)\n",
    "    power_set=[]\n",
    "    for i in range(2**n):\n",
    "        coded=\"{:b}\".format(i).zfill(n)\n",
    "        current_set=[]\n",
    "        for j in range(n):\n",
    "            if coded[j]==\"1\":\n",
    "                current_set.append(inputset[j])\n",
    "        power_set.append(current_set)\n",
    "    return power_set"
   ]
  },
  {
   "cell_type": "markdown",
   "metadata": {},
   "source": [
    "#### 一个非空集合的幂集"
   ]
  },
  {
   "cell_type": "code",
   "execution_count": 28,
   "metadata": {},
   "outputs": [],
   "source": [
    "input_set=[1,2,3,4]"
   ]
  },
  {
   "cell_type": "code",
   "execution_count": 30,
   "metadata": {},
   "outputs": [
    {
     "name": "stdout",
     "output_type": "stream",
     "text": [
      "[[], [4], [3], [3, 4], [2], [2, 4], [2, 3], [2, 3, 4], [1], [1, 4], [1, 3], [1, 3, 4], [1, 2], [1, 2, 4], [1, 2, 3], [1, 2, 3, 4]]\n",
      "The power set has 16 elements\n"
     ]
    }
   ],
   "source": [
    "power_set=getPowerSet(input_set)\n",
    "print(power_set)\n",
    "print(\"The power set has {} elements\".format(len(power_set)))"
   ]
  },
  {
   "cell_type": "markdown",
   "metadata": {},
   "source": [
    "#### 一个空集的幂集"
   ]
  },
  {
   "cell_type": "code",
   "execution_count": 31,
   "metadata": {},
   "outputs": [],
   "source": [
    "input_set=[]"
   ]
  },
  {
   "cell_type": "code",
   "execution_count": 32,
   "metadata": {},
   "outputs": [
    {
     "name": "stdout",
     "output_type": "stream",
     "text": [
      "[[]]\n",
      "The power set has 1 elements\n"
     ]
    }
   ],
   "source": [
    "power_set=getPowerSet(input_set)\n",
    "print(power_set)\n",
    "print(\"The power set has {} elements\".format(len(power_set)))"
   ]
  },
  {
   "cell_type": "markdown",
   "metadata": {},
   "source": [
    "#### 一个以空集为元素的集合的幂集"
   ]
  },
  {
   "cell_type": "code",
   "execution_count": 33,
   "metadata": {},
   "outputs": [],
   "source": [
    "input_set=[[]]"
   ]
  },
  {
   "cell_type": "code",
   "execution_count": 34,
   "metadata": {},
   "outputs": [
    {
     "name": "stdout",
     "output_type": "stream",
     "text": [
      "[[], [[]]]\n",
      "The power set has 2 elements\n"
     ]
    }
   ],
   "source": [
    "power_set=getPowerSet(input_set)\n",
    "print(power_set)\n",
    "print(\"The power set has {} elements\".format(len(power_set)))"
   ]
  },
  {
   "cell_type": "markdown",
   "metadata": {},
   "source": [
    "### 算法分析"
   ]
  },
  {
   "cell_type": "markdown",
   "metadata": {},
   "source": [
    "这个算法是$O(n2^n)$的复杂度。\n",
    "\n",
    "额外占用的空间是 0(n)  用于储存 00001 这样的长度为n的编码。"
   ]
  }
 ],
 "metadata": {
  "kernelspec": {
   "display_name": "Python 3",
   "language": "python",
   "name": "python3"
  },
  "language_info": {
   "codemirror_mode": {
    "name": "ipython",
    "version": 3
   },
   "file_extension": ".py",
   "mimetype": "text/x-python",
   "name": "python",
   "nbconvert_exporter": "python",
   "pygments_lexer": "ipython3",
   "version": "3.8.5"
  }
 },
 "nbformat": 4,
 "nbformat_minor": 4
}
