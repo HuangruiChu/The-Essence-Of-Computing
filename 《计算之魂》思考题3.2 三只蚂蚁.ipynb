{
 "cells": [
  {
   "cell_type": "markdown",
   "metadata": {},
   "source": [
    "Author: Huangrui Chu\n",
    "\n",
    "Bachelor: Duke Kunshan University\n",
    "\n",
    "Master: Yale University\n",
    "\n",
    "Reference Book: 《The Essence Of Computing》Author: Jun Wu"
   ]
  },
  {
   "cell_type": "markdown",
   "metadata": {},
   "source": [
    "# 思考题3.2\n",
    "\n",
    "假设有一个等边三角形，三个顶点上都有一只蚂蚁，每只随机选择方向，沿着三角形的边走，行走的速度相同。那么这些蚂蚁不发生碰撞的概率是多少？\n",
    "\n",
    "一星/五星\n",
    "\n",
    "如果有n只蚂蚁在一个正n边形的顶点上重复上述过程，概率又是多少？ 二星/五星\n",
    "\n",
    "提示：对三只蚂蚁可能选择的方向进行编码，由于每一只蚂蚁的决定是独立的，它们各自的选择可以被看成是三位二进制中的一位。找出所有可能的编码和符合条件的编码即可。"
   ]
  },
  {
   "cell_type": "markdown",
   "metadata": {},
   "source": [
    "### 我的解题"
   ]
  },
  {
   "cell_type": "markdown",
   "metadata": {},
   "source": [
    "对于正n边形$A$,假定它有n个顶点分别是$a_1,a_2,...,a_n$。对于每个蚂蚁，如果他们向左 记为1， 如果他们向右 记为 0。\n",
    "\n",
    "把n只蚂蚁的行动都记在长度为n的list里面 如 [0,1,0,1,0,1.....]\n",
    "\n",
    "如果所有蚂蚁方向一致，则不会碰撞。反之，碰撞。\n",
    "\n",
    "不会碰撞的只有全0和全1两种情况。\n",
    "\n",
    "一共有$2^n$种情况\n",
    "\n",
    "所以 不会碰撞的概率是$1/{2^{n-1}}$"
   ]
  }
 ],
 "metadata": {
  "kernelspec": {
   "display_name": "Python 3",
   "language": "python",
   "name": "python3"
  },
  "language_info": {
   "codemirror_mode": {
    "name": "ipython",
    "version": 3
   },
   "file_extension": ".py",
   "mimetype": "text/x-python",
   "name": "python",
   "nbconvert_exporter": "python",
   "pygments_lexer": "ipython3",
   "version": "3.8.5"
  }
 },
 "nbformat": 4,
 "nbformat_minor": 4
}
