{
 "cells": [
  {
   "cell_type": "markdown",
   "metadata": {},
   "source": [
    "Author: Huangrui Chu\n",
    "\n",
    "Bachelor: Duke Kunshan University\n",
    "\n",
    "Master: Yale University\n",
    "\n",
    "Reference Book: 《The Essence Of Computing》Author: Jun Wu\n",
    "\n",
    "Reference Blog: \n",
    "\n",
    "1. https://zhuanlan.zhihu.com/p/500087120 Author:鳄鱼\n",
    "\n",
    "2. https://zhuanlan.zhihu.com/p/349572768 Author:王虾片"
   ]
  },
  {
   "cell_type": "markdown",
   "metadata": {},
   "source": [
    "# 思考题3.3\n",
    "\n",
    "设计一种编码方法，用8位二进制数表示浮点数。 三星/五星\n",
    "\n",
    "\n",
    "根据书中给出的范围答案（p113）在兼顾一下精度和范围，可以表示 +/- 0.0078 到 480 之间的数字。"
   ]
  },
  {
   "cell_type": "markdown",
   "metadata": {},
   "source": [
    "# 计算机如何存储浮点数（IEEE-754 标准）\n",
    "\n",
    "IEEE-754 标准中定义了计算机如何用 32 个比特位存储一个浮点数：从左边起，第 1 位是符号位，用 s 表示，s=0 表示正数，s=1 表示负数；第 2 位到第 9 位是指数位，用 e 表示；第 10 位到第 32 位是有效数位，用 f 表示。知道了s、e、f，根据下面的公式，就可以算出浮点数的值：\n",
    "\n",
    "$$(-1)^s\\times1.f\\times2^{e-127}$$\n",
    "\n",
    "|s=符合位|e=指数位|f=有效数位|\n",
    "|--|--|--|\n",
    "|1比特|8比特|23比特|\n",
    "\n",
    "\n",
    "\n",
    "\n",
    "e 是 8 位，能表示 0 ~255 之间的整数\n",
    "\n",
    "e -127 就是 -127 ~ 128，\n",
    "\n",
    "不过由于 e = 0 和 e = 255 时有特殊用途，所以，e - 127 实际的范围是 -126 ~ 127。\n",
    "\n",
    "\n",
    "|e|f|s|浮点数|\n",
    "|--|--|--|--|\n",
    "|0|0|1 or 0|0|\n",
    "|0|!0|1 or 0|0.f|\n",
    "|255|0|0|无穷大|\n",
    "|255|0|1|无穷小|\n",
    "|255|！0|1 or 0|NAN|"
   ]
  },
  {
   "cell_type": "markdown",
   "metadata": {},
   "source": [
    "### 我的解题"
   ]
  },
  {
   "cell_type": "markdown",
   "metadata": {},
   "source": [
    "$$(-1)^s\\times1.f\\times2^{e-7}$$\n",
    "\n",
    "|s=符合位|e=指数位|f=有效数位|\n",
    "|--|--|--|\n",
    "|1比特|4比特|3比特|\n",
    "\n",
    "\n",
    "\n",
    "\n",
    "e 是 4 位，能表示 0 ~15 之间的整数\n",
    "\n",
    "e -7 就是 -7 ~ 8"
   ]
  },
  {
   "cell_type": "markdown",
   "metadata": {},
   "source": [
    "### 0.0078 怎么算"
   ]
  },
  {
   "cell_type": "code",
   "execution_count": 5,
   "metadata": {},
   "outputs": [
    {
     "data": {
      "text/plain": [
       "0.0078125"
      ]
     },
     "execution_count": 5,
     "metadata": {},
     "output_type": "execute_result"
    }
   ],
   "source": [
    "2**(-7)"
   ]
  },
  {
   "cell_type": "markdown",
   "metadata": {},
   "source": [
    "-0.0078=\"11111000\""
   ]
  },
  {
   "cell_type": "markdown",
   "metadata": {},
   "source": [
    "### 480怎么算"
   ]
  },
  {
   "cell_type": "markdown",
   "metadata": {},
   "source": [
    "二进制1.111 转 十进制为1.875"
   ]
  },
  {
   "cell_type": "code",
   "execution_count": 16,
   "metadata": {},
   "outputs": [
    {
     "data": {
      "text/plain": [
       "1.875"
      ]
     },
     "execution_count": 16,
     "metadata": {},
     "output_type": "execute_result"
    }
   ],
   "source": [
    "1+0.5+0.25+0.125"
   ]
  },
  {
   "cell_type": "code",
   "execution_count": 8,
   "metadata": {},
   "outputs": [
    {
     "data": {
      "text/plain": [
       "480.0"
      ]
     },
     "execution_count": 8,
     "metadata": {},
     "output_type": "execute_result"
    }
   ],
   "source": [
    "2**(8)*1.875"
   ]
  },
  {
   "cell_type": "markdown",
   "metadata": {},
   "source": [
    "480=\"01111111\""
   ]
  }
 ],
 "metadata": {
  "kernelspec": {
   "display_name": "Python 3",
   "language": "python",
   "name": "python3"
  },
  "language_info": {
   "codemirror_mode": {
    "name": "ipython",
    "version": 3
   },
   "file_extension": ".py",
   "mimetype": "text/x-python",
   "name": "python",
   "nbconvert_exporter": "python",
   "pygments_lexer": "ipython3",
   "version": "3.8.5"
  }
 },
 "nbformat": 4,
 "nbformat_minor": 4
}
