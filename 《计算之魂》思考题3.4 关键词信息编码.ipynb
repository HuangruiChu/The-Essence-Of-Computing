{
 "cells": [
  {
   "cell_type": "markdown",
   "metadata": {},
   "source": [
    "Author: Huangrui Chu\n",
    "\n",
    "Bachelor: Duke Kunshan University\n",
    "\n",
    "Master: Yale University\n",
    "\n",
    "Reference Book: 《The Essence Of Computing》Author: Jun Wu\n",
    "\n",
    "Reference Blog: \n",
    "\n",
    "1. https://zhuanlan.zhihu.com/p/501139285 Author:鳄鱼"
   ]
  },
  {
   "cell_type": "markdown",
   "metadata": {},
   "source": [
    "# 思考题3.4\n",
    "\n",
    "在网页搜索中，要记录每一个关键词出现的网页以及关键词在网页中的位置，如何设计对这个信息的编码，让每个关键词的索引总长度最短？ 三星/五星\n"
   ]
  },
  {
   "cell_type": "markdown",
   "metadata": {},
   "source": [
    "## 我的解题"
   ]
  },
  {
   "cell_type": "markdown",
   "metadata": {},
   "source": [
    "相关的知识和思考来自吴军老师的另一本书《数学之美》\n",
    "\n",
    "首先对所有网页编号。\n",
    "\n",
    "用一个映射器把“https://xxxxxx” 这种很长的网址 映射到 400 500 这种编号。\n",
    "    \n",
    "对于关键词在网页中的位置，使用 “增量编码”\n",
    "\n",
    "比如 “的” 出现在 编号 400 网页里的 390 488 500 等位置上，那么记录的方式就可以为\n",
    "\n",
    "的 400 390 98 12\n",
    "\n"
   ]
  }
 ],
 "metadata": {
  "kernelspec": {
   "display_name": "Python 3",
   "language": "python",
   "name": "python3"
  },
  "language_info": {
   "codemirror_mode": {
    "name": "ipython",
    "version": 3
   },
   "file_extension": ".py",
   "mimetype": "text/x-python",
   "name": "python",
   "nbconvert_exporter": "python",
   "pygments_lexer": "ipython3",
   "version": "3.8.5"
  }
 },
 "nbformat": 4,
 "nbformat_minor": 4
}
