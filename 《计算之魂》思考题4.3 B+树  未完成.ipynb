{
 "cells": [
  {
   "cell_type": "markdown",
   "metadata": {},
   "source": [
    "Author: Huangrui Chu\n",
    "\n",
    "Bachelor: Duke Kunshan University\n",
    "\n",
    "Master: Yale University\n",
    "\n",
    "Reference Book: 《The Essence Of Computing》Author: Jun Wu"
   ]
  },
  {
   "cell_type": "markdown",
   "metadata": {},
   "source": [
    "# 思考题 4.3\n",
    "\n",
    "## Q1 \n",
    "\n",
    "在拼音输入法中，如何根据拼音，或者部分拼音，快速找到相应的汉字，以及包含该汉字的词？ 三星/五星"
   ]
  },
  {
   "cell_type": "markdown",
   "metadata": {},
   "source": [
    "根据章节的内容，我们可以推断实现 汉字拼音树 要利用B+树，这样可以利用的声母，韵母的频率不同的已知条件来保证查找的效率。\n",
    "\n",
    "这样可以快速找到相应的汉字\n",
    "\n",
    "包含汉字的词， 我会选择用 汉字做key 词 做value来实现。\n",
    "\n",
    "\n",
    "这个 目前水平不够 没有能写出代码。 日后补。"
   ]
  }
 ],
 "metadata": {
  "kernelspec": {
   "display_name": "Python 3",
   "language": "python",
   "name": "python3"
  },
  "language_info": {
   "codemirror_mode": {
    "name": "ipython",
    "version": 3
   },
   "file_extension": ".py",
   "mimetype": "text/x-python",
   "name": "python",
   "nbconvert_exporter": "python",
   "pygments_lexer": "ipython3",
   "version": "3.8.5"
  }
 },
 "nbformat": 4,
 "nbformat_minor": 4
}
