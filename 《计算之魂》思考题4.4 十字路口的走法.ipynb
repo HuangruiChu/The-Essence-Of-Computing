{
 "cells": [
  {
   "cell_type": "markdown",
   "metadata": {},
   "source": [
    "Author: Huangrui Chu\n",
    "\n",
    "Bachelor: Duke Kunshan University\n",
    "\n",
    "Master: Yale University\n",
    "\n",
    "Reference Book: 《The Essence Of Computing》Author: Jun Wu"
   ]
  },
  {
   "cell_type": "markdown",
   "metadata": {},
   "source": [
    "# 思考题4.4\n",
    "\n",
    "北京的街道通常是横平竖直的。假如你站在某个十字路口，需要往东，往北各走N个街区，有多少种不同的走法？    三星/五星\n",
    "\n",
    "提示：这是个卡特兰数，但你需要证明这件事！"
   ]
  },
  {
   "cell_type": "markdown",
   "metadata": {},
   "source": [
    "## 题解思路\n",
    "\n",
    "一共要走2N步，其中要选出N步往东走，剩下的N步往北走。 所以利用高中的 组合 学的公式，答案就是\n",
    "\n",
    "\n",
    "$$C(2N,N)=\\binom{2N}{N}$$\n"
   ]
  },
  {
   "cell_type": "markdown",
   "metadata": {},
   "source": [
    "### 下面尝试用 卡特兰 的思路解决\n",
    "\n",
    "把东方向的N个路口标记为:1,2,3,...,N。把整个路径按照(i,j)点划分。 从(0,0) 到 (i,j) 作为前一段路程，从(i,j)到（N，N）作为另外一段路程。两段路程互相独立，且i=2,3,...,N-1;j=2,3,...N-1。\n",
    "\n",
    "因此有：\n",
    "\n",
    "$$S(N)=\\sum_{i=2}^{N-1}\\sum_{j=2}^{N-1}S(i+j) \\times S(2N-i-j)$$\n",
    "\n",
    "因此：（缺乏解题步骤，只是根据我上面写的答案倒推得出）\n",
    "\n",
    "$$S(N)=(N+1)C(N)=\\binom{2N}{N}$$"
   ]
  },
  {
   "cell_type": "code",
   "execution_count": 4,
   "metadata": {},
   "outputs": [
    {
     "data": {
      "text/plain": [
       "6"
      ]
     },
     "execution_count": 4,
     "metadata": {},
     "output_type": "execute_result"
    }
   ],
   "source": [
    "import math\n",
    "math.comb(4,2)"
   ]
  },
  {
   "cell_type": "code",
   "execution_count": 5,
   "metadata": {},
   "outputs": [],
   "source": [
    "import math\n",
    "def S(n):\n",
    "    ans=math.comb(2*n,n)\n",
    "    return ans"
   ]
  },
  {
   "cell_type": "code",
   "execution_count": 7,
   "metadata": {},
   "outputs": [
    {
     "data": {
      "text/plain": [
       "6"
      ]
     },
     "execution_count": 7,
     "metadata": {},
     "output_type": "execute_result"
    }
   ],
   "source": [
    "S(2)"
   ]
  },
  {
   "cell_type": "code",
   "execution_count": null,
   "metadata": {},
   "outputs": [],
   "source": []
  }
 ],
 "metadata": {
  "kernelspec": {
   "display_name": "Python 3",
   "language": "python",
   "name": "python3"
  },
  "language_info": {
   "codemirror_mode": {
    "name": "ipython",
    "version": 3
   },
   "file_extension": ".py",
   "mimetype": "text/x-python",
   "name": "python",
   "nbconvert_exporter": "python",
   "pygments_lexer": "ipython3",
   "version": "3.8.5"
  }
 },
 "nbformat": 4,
 "nbformat_minor": 4
}
