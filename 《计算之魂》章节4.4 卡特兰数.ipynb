{
 "cells": [
  {
   "cell_type": "markdown",
   "metadata": {},
   "source": [
    "Author: Huangrui Chu\n",
    "\n",
    "Bachelor: Duke Kunshan University\n",
    "\n",
    "Master: Yale University\n",
    "\n",
    "Reference Book: 《The Essence Of Computing》Author: Jun Wu"
   ]
  },
  {
   "cell_type": "markdown",
   "metadata": {},
   "source": [
    "# 例题 4.3\n",
    "\n",
    "有多少种N个叶节点的满二叉树？ 五星/五星"
   ]
  },
  {
   "cell_type": "markdown",
   "metadata": {},
   "source": [
    "满二叉树的定义：所有节点子树的棵树要么是2，要么是0。\n",
    "\n",
    "N=1 时 只有一种符合条件的满二叉树\n",
    "\n",
    "N=2 时 只有一种符合条件的满二叉树\n",
    "\n",
    "N=3 时 只有2种符合条件的满二叉树\n",
    "\n",
    "N=4 时 只有5种符合条件的满二叉树"
   ]
  },
  {
   "cell_type": "markdown",
   "metadata": {},
   "source": [
    "## 题解思路\n",
    "\n",
    "# 递归\n",
    "\n",
    "以下文字摘自 计算之魂 p156\n",
    "\n",
    "假定有N个叶节点的满二叉树的数量为S(N)。把他分成左树(k)与右树(N-k)。那么左树右树就分别有S(k) S(N-k)种情况。而左树右树彼此独立，所以整棵二叉树就有S(k)*S(N-k)种情况。 k=1,2,3,4,...,N-1\n",
    "\n",
    "因此：\n",
    "\n",
    "$$S(N)=\\sum_{k=1}^{N-1}S(k) \\times S(N-k)$$"
   ]
  },
  {
   "cell_type": "markdown",
   "metadata": {},
   "source": [
    "吴军老师说了，如果能写出解析解，就能额外加分。因此，我把解析解放在这里\n",
    "\n",
    "$$S(N)=\\binom{2N-2}{N-1}/N$$\n",
    "\n",
    "加上 维基链接"
   ]
  },
  {
   "cell_type": "markdown",
   "metadata": {},
   "source": [
    "\"卡特兰数\"  C（N）可以理解为 内部节点为N，即叶节点数量为N+1的满二叉树的数量，即\n",
    "\n",
    "$$C(N)=S(N+1)=\\binom{2N}{N}/(N+1)$$\n",
    "\n",
    "卡特兰数是N的指数函数"
   ]
  },
  {
   "cell_type": "markdown",
   "metadata": {},
   "source": [
    "# 代码\n",
    "\n",
    "既然吴军老师给出了公式，那么我就补个代码吧！\n",
    "利用递归来保存中间变量，这样就比递归的效率（重复计算的那一部分） 高了"
   ]
  },
  {
   "cell_type": "code",
   "execution_count": 38,
   "metadata": {},
   "outputs": [],
   "source": [
    "def Catalan(n):\n",
    "    dp=[0]*(n+1)\n",
    "    dp[0],dp[1]=1,1\n",
    "    for i in range(2,n+1):\n",
    "        for j in range(1,i+1):\n",
    "            dp[i]+=dp[j-1]*dp[i-j]\n",
    "    # print(dp)\n",
    "    return dp[n]"
   ]
  },
  {
   "cell_type": "code",
   "execution_count": 9,
   "metadata": {},
   "outputs": [
    {
     "data": {
      "text/plain": [
       "5"
      ]
     },
     "execution_count": 9,
     "metadata": {},
     "output_type": "execute_result"
    }
   ],
   "source": [
    "Catalan(3)"
   ]
  },
  {
   "cell_type": "code",
   "execution_count": 36,
   "metadata": {},
   "outputs": [],
   "source": [
    "def S(n):\n",
    "    dp=[0]*n\n",
    "    if n==1:\n",
    "        return 1\n",
    "    dp[0],dp[1]=1,1\n",
    "    for i in range(2,n):\n",
    "        for j in range(1,i+1):\n",
    "            dp[i]+=dp[j-1]*dp[i-j]\n",
    "    # print(dp)\n",
    "    return dp[n-1]"
   ]
  },
  {
   "cell_type": "code",
   "execution_count": 42,
   "metadata": {},
   "outputs": [
    {
     "data": {
      "text/plain": [
       "5"
      ]
     },
     "execution_count": 42,
     "metadata": {},
     "output_type": "execute_result"
    }
   ],
   "source": [
    "S(4)"
   ]
  },
  {
   "cell_type": "markdown",
   "metadata": {},
   "source": [
    "### 使用解析解 解题"
   ]
  },
  {
   "cell_type": "code",
   "execution_count": 47,
   "metadata": {},
   "outputs": [],
   "source": [
    "import math\n",
    "def S(n):\n",
    "    ans=math.comb(2*n-2,n-1)/n\n",
    "    return ans"
   ]
  },
  {
   "cell_type": "code",
   "execution_count": 51,
   "metadata": {},
   "outputs": [
    {
     "data": {
      "text/plain": [
       "5.0"
      ]
     },
     "execution_count": 51,
     "metadata": {},
     "output_type": "execute_result"
    }
   ],
   "source": [
    "S(4)"
   ]
  },
  {
   "cell_type": "markdown",
   "metadata": {},
   "source": [
    "# 例题 4.4 凸多边形的划分问题\n",
    "\n",
    "对于任意一个凸N边形，我们都可以通过连续连接它的顶点，将它划分成N-2个不重叠的三角形，求划分方法。 五星/五星"
   ]
  },
  {
   "cell_type": "markdown",
   "metadata": {},
   "source": [
    "三角形不能继续被分割，四边形有两种划分三角形的方法（对角线），五边形有五种。\n",
    "\n",
    "1 2 5，这样的数字出来了就感觉像是 卡特兰数了。\n",
    "\n",
    "那么做一下通解。 将一个凸N边形的顶点编号为1，2，3，...,N。选择底边和编号为k的顶点构成的三角形将多边形分割成左右两边。(k=2,3,4,...,N-1)共N-2种情形。\n",
    "那么这两边如何分割是互不相干的独立事件。\n",
    "\n",
    "$$P(N)=\\sum_{k=2}^{N-1}P(k) \\times P(N-k+1)$$\n",
    "\n",
    "$$P(N)=C(N-2)$$\n"
   ]
  },
  {
   "cell_type": "markdown",
   "metadata": {},
   "source": [
    "# 例题 4.5 N个字符的字符串合并问题\n",
    "\n",
    " 我们假定有一个包含N个字符的字符串序列，相邻的两个字符可以合并为一个新的字符，并且可以和周围的字符进一步合并，问这个字符串有多少种\n",
    "合并方法。比如字符串abcd有以下五种合并方法：((ab)c)d),(a(bc)d),(ab)(cd),a((bc)d),a(b(cd))。 其中“（）”表示合并的优先顺序。\n",
    "    \n",
    "    四星/五星"
   ]
  },
  {
   "cell_type": "markdown",
   "metadata": {},
   "source": [
    "这题比前面少一星是因为，字符串合并更容易让人想到递归算法"
   ]
  },
  {
   "cell_type": "markdown",
   "metadata": {},
   "source": [
    "### 证明 字符串合并 是卡特兰数"
   ]
  },
  {
   "cell_type": "markdown",
   "metadata": {},
   "source": [
    "我们假定字符串有N个character，把他们标号为1，2，3，4，...,N。我们选定k，将字符串分割成左右两边（k及其左边的字母一起,k右边的所有字母）。(k=1,3,4,...,N-1)，共N-2种情形。\n",
    "\n",
    "\n",
    "P(1)=1\n",
    "\n",
    "P(2)=1\n",
    "\n",
    "P(3)=2\n",
    "\n",
    "P(4)=5\n",
    "\n",
    "\n",
    "这就是和例题4.3一样的情况了"
   ]
  },
  {
   "cell_type": "markdown",
   "metadata": {},
   "source": [
    "$$P(N)=\\sum_{k=1}^{N-1}P(k) \\times P(N-k)$$\n",
    "\n",
    "$$P(N)=C(N-1)$$"
   ]
  }
 ],
 "metadata": {
  "kernelspec": {
   "display_name": "Python 3",
   "language": "python",
   "name": "python3"
  },
  "language_info": {
   "codemirror_mode": {
    "name": "ipython",
    "version": 3
   },
   "file_extension": ".py",
   "mimetype": "text/x-python",
   "name": "python",
   "nbconvert_exporter": "python",
   "pygments_lexer": "ipython3",
   "version": "3.8.5"
  }
 },
 "nbformat": 4,
 "nbformat_minor": 4
}
